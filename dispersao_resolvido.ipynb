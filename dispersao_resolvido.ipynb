{
 "cells": [
  {
   "cell_type": "markdown",
   "id": "0bbdc0b9",
   "metadata": {},
   "source": [
    "### Faça os códigos de media, mediana, variancia e desvio padrão (sem usar biblioteca direta)"
   ]
  },
  {
   "cell_type": "code",
   "execution_count": 66,
   "id": "9341397a",
   "metadata": {},
   "outputs": [],
   "source": [
    "def media(lista):\n",
    "    \"\"\"\n",
    "    Input \n",
    "    lista: lista de entrada\n",
    "    Output\n",
    "    media: media dos valores da lista\n",
    "    \n",
    "    \"\"\"\n",
    "    x = 0\n",
    "    for i in lista:\n",
    "        x = x + i\n",
    "        media = x/len(lista)\n",
    "    return media"
   ]
  },
  {
   "cell_type": "code",
   "execution_count": 67,
   "id": "f7247669",
   "metadata": {},
   "outputs": [],
   "source": [
    "def mediana(lista):\n",
    "    \"\"\"\n",
    "    Input \n",
    "    lista: lista de entrada\n",
    "    Output\n",
    "    mediana: mediana dos valores da lista\n",
    "\n",
    "    \"\"\"\n",
    "    n = len(lista)\n",
    "    ordenada = sorted(lista)\n",
    "    if n % 2 != 0:\n",
    "        mediana = ordenada[n//2]\n",
    "    \n",
    "    else:\n",
    "        mediana = (ordenada[n//2-1] + ordenada[n//2])/2\n",
    "\n",
    "    return mediana"
   ]
  },
  {
   "cell_type": "code",
   "execution_count": 68,
   "id": "5792df6f",
   "metadata": {},
   "outputs": [
    {
     "data": {
      "text/plain": [
       "4.0"
      ]
     },
     "execution_count": 68,
     "metadata": {},
     "output_type": "execute_result"
    }
   ],
   "source": [
    "l = [1,2,3,4,5,6,7]\n",
    "media(l)"
   ]
  },
  {
   "cell_type": "code",
   "execution_count": 69,
   "id": "925f5fcc",
   "metadata": {},
   "outputs": [],
   "source": [
    "def variancia(lista):\n",
    "    \"\"\"\n",
    "    Input\n",
    "    lista: lista de entrada\n",
    "\n",
    "    Output\n",
    "    variancia: variancia dos valores da lista\n",
    "\n",
    "    \"\"\"\n",
    "    s = []\n",
    "    n = len(lista)\n",
    "    for i in lista:\n",
    "        elemento = ((i - media(lista))**2)/n\n",
    "        s.append(elemento)\n",
    "        variancia = sum(s)\n",
    "    \n",
    "    return variancia"
   ]
  },
  {
   "cell_type": "code",
   "execution_count": 70,
   "id": "89daa924",
   "metadata": {},
   "outputs": [
    {
     "data": {
      "text/plain": [
       "4.0"
      ]
     },
     "execution_count": 70,
     "metadata": {},
     "output_type": "execute_result"
    }
   ],
   "source": [
    "variancia(l)"
   ]
  },
  {
   "cell_type": "code",
   "execution_count": 71,
   "id": "cc1e6fc2",
   "metadata": {},
   "outputs": [
    {
     "data": {
      "text/plain": [
       "np.float64(2.0)"
      ]
     },
     "execution_count": 71,
     "metadata": {},
     "output_type": "execute_result"
    }
   ],
   "source": [
    "import numpy as np\n",
    "\n",
    "np.std(l)"
   ]
  },
  {
   "cell_type": "code",
   "execution_count": 72,
   "id": "5edf8b7f",
   "metadata": {},
   "outputs": [],
   "source": [
    "def dp(lista):\n",
    "    \"\"\"\n",
    "    Input\n",
    "    lista: lista de entrada\n",
    "\n",
    "    Output\n",
    "    variancia: variancia dos valores da lista\n",
    "\n",
    "    \"\"\"\n",
    "\n",
    "    dp = (variancia(lista))**(1/2)\n",
    "\n",
    "    return dp"
   ]
  },
  {
   "cell_type": "code",
   "execution_count": 73,
   "id": "1d6fb336",
   "metadata": {},
   "outputs": [
    {
     "data": {
      "text/plain": [
       "2.0"
      ]
     },
     "execution_count": 73,
     "metadata": {},
     "output_type": "execute_result"
    }
   ],
   "source": [
    "dp(l)"
   ]
  },
  {
   "cell_type": "markdown",
   "id": "1c6a7221",
   "metadata": {},
   "source": [
    "### Faça análise de dispersão dos dados"
   ]
  },
  {
   "cell_type": "code",
   "execution_count": 76,
   "id": "0ffedecc",
   "metadata": {},
   "outputs": [],
   "source": [
    "# Conjuntos de dados fictícios\n",
    "\n",
    "d1 = [10, 11, 9, 10, 12, 11, 10, 9, 10, 11]\n",
    "d2 = [10, 15, 5, 12, 8, 14, 6, 11, 9, 13]\n",
    "d3 = [10, 25, 5, 1, 15, 30, 20, 8, 12, 18]"
   ]
  },
  {
   "cell_type": "code",
   "execution_count": 78,
   "id": "839ada19",
   "metadata": {},
   "outputs": [
    {
     "name": "stdout",
     "output_type": "stream",
     "text": [
      "Medias:\n",
      " d1 = 10.3\n",
      " d2 = 10.3\n",
      " d3 = 14.4\n",
      "Medianas:\n",
      " d1 = 10.0\n",
      " d2 = 10.5\n",
      " d3 = 13.5\n",
      "Variancias:\n",
      " d1 = 0.81\n",
      " d2 = 10.01\n",
      " d3 = 73.44\n",
      "Desvios padrao:\n",
      " d1 = 0.9\n",
      " d2 = 3.163858403911275\n",
      " d3 = 8.56971411425142\n"
     ]
    }
   ],
   "source": [
    "print(f'Medias:\\n d1 = {media(d1)}\\n d2 = {media(d2)}\\n d3 = {media(d3)}')\n",
    "print(f'Medianas:\\n d1 = {mediana(d1)}\\n d2 = {mediana(d2)}\\n d3 = {mediana(d3)}')\n",
    "print(f'Variancias:\\n d1 = {variancia(d1)}\\n d2 = {variancia(d2)}\\n d3 = {variancia(d3)}')\n",
    "print(f'Desvios padrao:\\n d1 = {dp(d1)}\\n d2 = {dp(d2)}\\n d3 = {dp(d3)}')"
   ]
  },
  {
   "cell_type": "code",
   "execution_count": null,
   "id": "eb38adff",
   "metadata": {},
   "outputs": [
    {
     "data": {
      "text/plain": [
       "np.float64(73.44000000000001)"
      ]
     },
     "execution_count": 80,
     "metadata": {},
     "output_type": "execute_result"
    }
   ],
   "source": [
    "np.var(d3)"
   ]
  },
  {
   "cell_type": "code",
   "execution_count": null,
   "id": "6cb47d7e",
   "metadata": {},
   "outputs": [],
   "source": []
  },
  {
   "cell_type": "code",
   "execution_count": null,
   "id": "1c728d8e",
   "metadata": {},
   "outputs": [],
   "source": []
  },
  {
   "cell_type": "code",
   "execution_count": null,
   "id": "7e0d3708",
   "metadata": {},
   "outputs": [],
   "source": []
  }
 ],
 "metadata": {
  "kernelspec": {
   "display_name": "Python 3",
   "language": "python",
   "name": "python3"
  },
  "language_info": {
   "codemirror_mode": {
    "name": "ipython",
    "version": 3
   },
   "file_extension": ".py",
   "mimetype": "text/x-python",
   "name": "python",
   "nbconvert_exporter": "python",
   "pygments_lexer": "ipython3",
   "version": "3.13.2"
  }
 },
 "nbformat": 4,
 "nbformat_minor": 5
}
